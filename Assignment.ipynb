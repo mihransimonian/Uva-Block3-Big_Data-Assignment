{
 "cells": [
  {
   "cell_type": "code",
   "execution_count": 43,
   "metadata": {},
   "outputs": [],
   "source": [
    "# Convert Units\n",
    "########\n",
    "# Self-made Dictionary\n",
    "\n",
    "# All conversions are made to SI units\n",
    "# https://en.wikipedia.org/wiki/United_States_customary_units#Units_of_length\n",
    "dict_unit = {\n",
    "    # distance to Meter (SI)\n",
    "    'distance_SI_km':0.001, # kilometer\n",
    "    'distance_SI_cm':100, # centimeter\n",
    "    'distance_SI_mm':1000, # millimeter\n",
    "    'distance_USCS_mi.':1609.344, # miles\n",
    "    'distance_USCS_ft':0.3048, # feet\n",
    "    'distance_USCS_in':0.0254, # inch\n",
    "    # volume to Liter (SI)\n",
    "    'volume_USCS_cu_in':0.016387064, # cubic inch\n",
    "    'volume_USCS_cu_ft':28.316846592, # cubic feet\n",
    "    'volume_USCS_cu_yd':764.554857984, # cubic yard\n",
    "    'volume_USCS_bbl':158.987294928, # oil barrel\n",
    "}\n",
    "\n",
    "def retrieve_conv_unit_from_dict(unit_subject, unit_system, unit_specs):\n",
    "    retrieval_value = unit_subject + '_' + unit_system + '_' + unit_specs\n",
    "    return(dict_unit.get(retrieval_value, 'ERROR'))"
   ]
  },
  {
   "cell_type": "code",
   "execution_count": 40,
   "metadata": {},
   "outputs": [],
   "source": [
    "def retrieve_conv_unit(unit_subject, unit_system, unit_specs):\n",
    "    retrieval_value = unit_subject + '_' + unit_system + '_' + unit_specs\n",
    "    return(dict_unit.get(retrieval_value, 'ERROR'))"
   ]
  },
  {
   "cell_type": "code",
   "execution_count": 19,
   "metadata": {},
   "outputs": [],
   "source": [
    "# Convert Units\n",
    "########\n",
    "# PintPy\n",
    "import pint\n",
    "ureg = pint.UnitRegistry() # (3 * ureg.meter + 4 * ureg.cm)\n",
    "\n",
    "def convert_pintpy(data_in, unit_in, unit_out):\n",
    "    ureg = pint.UnitRegistry()\n",
    "\n",
    "    unit_in = \"ureg.\" + unit_in\n",
    "    unit_out = \"ureg.\" + unit_out\n",
    "    out = (1 * unit_out + data_in * unit_in)\n",
    "    out = out - (1 * unit_out)\n",
    "\n",
    "    return(out)"
   ]
  },
  {
   "cell_type": "code",
   "execution_count": 93,
   "metadata": {},
   "outputs": [
    {
     "name": "stdout",
     "output_type": "stream",
     "text": "37.35976780046479\n18.052876670367368\n"
    }
   ],
   "source": [
    "# Convert Units\n",
    "########\n",
    "# PyPi: Unit-Converter\n",
    "from unit_convert import UnitConvert\n",
    "\n",
    "# Yards + kilometres to miles\n",
    "x = UnitConvert(yards=136.23, kilometres=60).miles\n",
    "print(x)\n",
    "\n",
    "# Bytes to terabytes\n",
    "x = UnitConvert(b=19849347813875).tb\n",
    "print(x)\n",
    "\n",
    "def convert_unit_converter(data_in, unit_in, unit_out):\n",
    "    from unit_convert import UnitConvert\n",
    "    # Yards + kilometres to miles\n",
    "    #return print(UnitConvert(kilometres=60).miles)\n",
    "    return(UnitConvert(unit_in=data_in).unit_out)"
   ]
  },
  {
   "cell_type": "code",
   "execution_count": 48,
   "metadata": {},
   "outputs": [],
   "source": [
    "# Convert Time\n",
    "########\n",
    "#   PyPi: Workdays"
   ]
  },
  {
   "cell_type": "code",
   "execution_count": 49,
   "metadata": {},
   "outputs": [],
   "source": [
    "# Convert Time\n",
    "########\n",
    "#   PyPi: BusinessHours"
   ]
  },
  {
   "cell_type": "code",
   "execution_count": 87,
   "metadata": {},
   "outputs": [
    {
     "name": "stdout",
     "output_type": "stream",
     "text": "Time elapsed (h:m:s.ms) 0:00:00.472232\nIndex(['Unnamed: 0', 'Unnamed: 1', 'Unnamed: 2', 'Unnamed: 3', 'Unnamed: 4',\n       'Unnamed: 5', 'Temperatures', 'Temperatures.1', 'Mass', 'Mass.1',\n       'Distance', 'Distance.1', 'Distance.2', 'Distance.3'],\n      dtype='object')\n"
    }
   ],
   "source": [
    "# General importing\n",
    "import pandas as pd\n",
    "import numpy as np\n",
    "\n",
    "#####\n",
    "# time recording loop\n",
    "from datetime import datetime\n",
    "start_time = datetime.now()\n",
    "# INSERT YOUR CODE #\n",
    "####### import\n",
    "df_import_supplier_A = pd.DataFrame()\n",
    "df_import_supplier_A = pd.read_csv(\"Data.csv\", header=0, sep=';',low_memory=False)\n",
    "df_import_supplier_A.head()\n",
    "# END OF CODE #\n",
    "\n",
    "time_elapsed = datetime.now() - start_time\n",
    "print('Time elapsed (h:m:s.ms) {}'.format(time_elapsed))\n",
    "\n",
    "print(df_import_supplier_A.columns)\n",
    "#####\n",
    "\n",
    "\n",
    "#####\n",
    "#####\n",
    "# time recording loop\n",
    "start_time = datetime.now()\n",
    "#######\n",
    "#   PintPy\n",
    "#   PyPi: Unit-converter\n",
    "#   PyPi: Workdays\n",
    "#   PyPi: BusinessHours\n",
    "#######\n",
    "#IS KAPOT #convert_pintpy(1,\"meter\",\"cm\") \n",
    "#IS KAPOT #convert_unit_converter(100, kilometres, miles)"
   ]
  },
  {
   "cell_type": "code",
   "execution_count": 91,
   "metadata": {},
   "outputs": [
    {
     "ename": "TypeError",
     "evalue": "__init__() takes 1 positional argument but 2 were given",
     "output_type": "error",
     "traceback": [
      "\u001b[1;31m---------------------------------------------------------------------------\u001b[0m",
      "\u001b[1;31mTypeError\u001b[0m                                 Traceback (most recent call last)",
      "\u001b[1;32m<ipython-input-91-9fe1a1f6079f>\u001b[0m in \u001b[0;36m<module>\u001b[1;34m\u001b[0m\n\u001b[0;32m      9\u001b[0m \u001b[0my\u001b[0m\u001b[1;33m.\u001b[0m\u001b[0miloc\u001b[0m\u001b[1;33m[\u001b[0m\u001b[1;36m2\u001b[0m\u001b[1;33m:\u001b[0m\u001b[0my\u001b[0m\u001b[1;33m.\u001b[0m\u001b[0msize\u001b[0m\u001b[1;33m]\u001b[0m\u001b[1;33m\u001b[0m\u001b[1;33m\u001b[0m\u001b[0m\n\u001b[0;32m     10\u001b[0m \u001b[1;31m#y.apply(UnitConvert(yards=136.23, kilometres=60).miles)\u001b[0m\u001b[1;33m\u001b[0m\u001b[1;33m\u001b[0m\u001b[1;33m\u001b[0m\u001b[0m\n\u001b[1;32m---> 11\u001b[1;33m \u001b[0my\u001b[0m\u001b[1;33m.\u001b[0m\u001b[0mapply\u001b[0m\u001b[1;33m(\u001b[0m\u001b[0mUnitConvert\u001b[0m\u001b[1;33m,\u001b[0m \u001b[0mconvert_dtype\u001b[0m\u001b[1;33m=\u001b[0m\u001b[1;32mTrue\u001b[0m\u001b[1;33m,\u001b[0m \u001b[0margs\u001b[0m\u001b[1;33m=\u001b[0m\u001b[1;33m(\u001b[0m\u001b[1;33m)\u001b[0m\u001b[1;33m)\u001b[0m\u001b[1;33m\u001b[0m\u001b[1;33m\u001b[0m\u001b[0m\n\u001b[0m\u001b[0;32m     12\u001b[0m \u001b[1;33m\u001b[0m\u001b[0m\n\u001b[0;32m     13\u001b[0m \u001b[1;31m#y.apply(retrieve_conv_unit_from_dict('distance','SI', 'mm'))\u001b[0m\u001b[1;33m\u001b[0m\u001b[1;33m\u001b[0m\u001b[1;33m\u001b[0m\u001b[0m\n",
      "\u001b[1;32mC:\\ProgramData\\Anaconda3\\lib\\site-packages\\pandas\\core\\series.py\u001b[0m in \u001b[0;36mapply\u001b[1;34m(self, func, convert_dtype, args, **kwds)\u001b[0m\n\u001b[0;32m   4040\u001b[0m             \u001b[1;32melse\u001b[0m\u001b[1;33m:\u001b[0m\u001b[1;33m\u001b[0m\u001b[1;33m\u001b[0m\u001b[0m\n\u001b[0;32m   4041\u001b[0m                 \u001b[0mvalues\u001b[0m \u001b[1;33m=\u001b[0m \u001b[0mself\u001b[0m\u001b[1;33m.\u001b[0m\u001b[0mastype\u001b[0m\u001b[1;33m(\u001b[0m\u001b[0mobject\u001b[0m\u001b[1;33m)\u001b[0m\u001b[1;33m.\u001b[0m\u001b[0mvalues\u001b[0m\u001b[1;33m\u001b[0m\u001b[1;33m\u001b[0m\u001b[0m\n\u001b[1;32m-> 4042\u001b[1;33m                 \u001b[0mmapped\u001b[0m \u001b[1;33m=\u001b[0m \u001b[0mlib\u001b[0m\u001b[1;33m.\u001b[0m\u001b[0mmap_infer\u001b[0m\u001b[1;33m(\u001b[0m\u001b[0mvalues\u001b[0m\u001b[1;33m,\u001b[0m \u001b[0mf\u001b[0m\u001b[1;33m,\u001b[0m \u001b[0mconvert\u001b[0m\u001b[1;33m=\u001b[0m\u001b[0mconvert_dtype\u001b[0m\u001b[1;33m)\u001b[0m\u001b[1;33m\u001b[0m\u001b[1;33m\u001b[0m\u001b[0m\n\u001b[0m\u001b[0;32m   4043\u001b[0m \u001b[1;33m\u001b[0m\u001b[0m\n\u001b[0;32m   4044\u001b[0m         \u001b[1;32mif\u001b[0m \u001b[0mlen\u001b[0m\u001b[1;33m(\u001b[0m\u001b[0mmapped\u001b[0m\u001b[1;33m)\u001b[0m \u001b[1;32mand\u001b[0m \u001b[0misinstance\u001b[0m\u001b[1;33m(\u001b[0m\u001b[0mmapped\u001b[0m\u001b[1;33m[\u001b[0m\u001b[1;36m0\u001b[0m\u001b[1;33m]\u001b[0m\u001b[1;33m,\u001b[0m \u001b[0mSeries\u001b[0m\u001b[1;33m)\u001b[0m\u001b[1;33m:\u001b[0m\u001b[1;33m\u001b[0m\u001b[1;33m\u001b[0m\u001b[0m\n",
      "\u001b[1;32mpandas\\_libs\\lib.pyx\u001b[0m in \u001b[0;36mpandas._libs.lib.map_infer\u001b[1;34m()\u001b[0m\n",
      "\u001b[1;31mTypeError\u001b[0m: __init__() takes 1 positional argument but 2 were given"
     ]
    }
   ],
   "source": [
    "\n",
    "y = df_import_supplier_A['Temperatures']\n",
    "y.iloc[2:y.size]\n",
    "#y.apply(UnitConvert(yards=136.23, kilometres=60).miles)\n",
    "y.apply(UnitConvert, args=())\n",
    "\n",
    "#y.apply(retrieve_conv_unit_from_dict('distance','SI', 'mm'))\n",
    "\n",
    "#y.apply(retrieve_conv_unit_from_dict('distance','SI', 'mm'))\n",
    "#y.apply(UnitConvert(unit_in=data_in).unit_out)\n",
    "\n",
    "# END OF CODE #\n",
    "\n",
    "time_elapsed = datetime.now() - start_time\n",
    "print('Time elapsed (h:m:s.ms) {}'.format(time_elapsed))"
   ]
  },
  {
   "cell_type": "code",
   "execution_count": null,
   "metadata": {},
   "outputs": [],
   "source": [
    "## Pre-clean dataset\n",
    "# drop rows\n",
    "#df_import_supplier_A.drop([1,5])\n",
    "\n",
    "# drop column\n",
    "df_import_supplier_A.drop(columns=['Unnamed: 1', 'Unnamed: 2', 'Unnamed: 3', 'Unnamed: 4', 'Unnamed: 5'], axis=1)\n",
    "\n",
    "## Perform library search, handmade python\n",
    "\n",
    "## Run large table\n"
   ]
  }
 ],
 "metadata": {
  "kernelspec": {
   "display_name": "Python 3.7.4 64-bit ('base': conda)",
   "language": "python",
   "name": "python37464bitbaseconda436eee8014a147a9bb4bb1d46a33b7e9"
  },
  "language_info": {
   "codemirror_mode": {
    "name": "ipython",
    "version": 3
   },
   "file_extension": ".py",
   "mimetype": "text/x-python",
   "name": "python",
   "nbconvert_exporter": "python",
   "pygments_lexer": "ipython3",
   "version": "3.7.4-final"
  }
 },
 "nbformat": 4,
 "nbformat_minor": 2
}