{
 "cells": [
  {
   "cell_type": "code",
   "execution_count": 48,
   "metadata": {},
   "outputs": [
    {
     "name": "stdout",
     "output_type": "stream",
     "text": "{'distance_SI_km': '0,001', 'distance_SI_cm': '100', 'distance_SI_mm': '1000'}\n"
    }
   ],
   "source": [
    "# Read csv to Dictionary\n",
    "import csv\n",
    "reader = csv.reader(open('unit_conversions.csv', 'r'), delimiter=';')\n",
    "dict_unit_csv = {} # start with empty dictionary\n",
    "\n",
    "####\n",
    "## Add code to check whether two columns or not\n",
    "## Add code for input types (string, float)\n",
    "####\n",
    "\n",
    "for k, v in reader:\n",
    "    dict_unit_csv[k] = v # add key and value to dict\n",
    "\n",
    "print(dict_unit_csv) # test output"
   ]
  },
  {
   "cell_type": "code",
   "execution_count": 157,
   "metadata": {},
   "outputs": [],
   "source": [
    "# Convert Units\n",
    "########\n",
    "# Self-made Dictionary\n",
    "\n",
    "# All conversions are made to SI units\n",
    "# https://en.wikipedia.org/wiki/United_States_customary_units#Units_of_length\n",
    "\n",
    "dict_unit_hardcoded = {\n",
    "    # Distance to Meter (SI) using * multiplication to go to SI\n",
    "    'distance_SI_km':0.001, # kilometer\n",
    "    'distance_SI_m':1, # meter\n",
    "    'distance_SI_cm':100, # centimeter\n",
    "    'distance_SI_mm':1000, # millimeter\n",
    "    'distance_USCS_mi.':1609.344, # miles\n",
    "    'distance_USCS_ft':0.3048, # feet\n",
    "    'distance_USCS_in':0.0254, # inch\n",
    "    # Volume to Liter (SI) using * multiplication to go to SI\n",
    "    'volume_USCS_cu_in':0.016387064, # cubic inch\n",
    "    'volume_USCS_cu_ft':28.316846592, # cubic feet\n",
    "    'volume_USCS_cu_yd':764.554857984, # cubic yard\n",
    "    'volume_USCS_bbl':158.987294928, # oil barrel\n",
    "    'volume_SI_L':1, # Liter\n",
    "    # Temperatures\n",
    "    'temperatures_USCS_F': lambda x : ((5/9) * (x - 32)), # Fahrenheit to C\n",
    "    'temperatures_SI_K': lambda x : (x - 273.15), # Kelvin\n",
    "    'temperatures_SI_C': 1, # Celsius\n",
    "    # Weights\n",
    "    'mass_USCS_lb': 0.45359237, # Pounds\n",
    "    'mass_SI_kg': 1, # Kilogram\n",
    "    'mass_SI_g': 1000, # grams\n",
    "}"
   ]
  },
  {
   "cell_type": "code",
   "execution_count": 158,
   "metadata": {},
   "outputs": [],
   "source": [
    "# Make universal dictionary reader for unit conversions\n",
    "\n",
    "def convert_units_from_dict(dict_to_use, unit_subject, unit_system, unit_specs, data_in):\n",
    "    '''\n",
    "    Retrieves conversion units from dictionary to be multiplied\\n\n",
    "    Apply a function in case it is a function\\n\n",
    "    dict_to_use = dictionary used to retrieve value\\n\n",
    "    unit_subject = describes the subject of unit, e.g. temperature, length\\n\n",
    "    unit_system = describes the unit systeml USCS, Imperial, SI etc\\n\n",
    "    unit_specs = Specificies the exact unit used\n",
    "    '''\n",
    "    retrieval_value = unit_subject + '_' + unit_system + '_' + unit_specs\n",
    "    if retrieval_value not in dict_to_use:\n",
    "        # This will stop the program!\n",
    "        raise RuntimeError(\"Unit \"  + retrieval_value + \" not found in dictionary. Please update data or dictionary.\")\n",
    "    \n",
    "    x = dict_to_use[retrieval_value]\n",
    "\n",
    "    try:\n",
    "        data_in = float(data_in)\n",
    "    except:\n",
    "        raise RuntimeError(\"Datatype value in database is a string but it must be a floating point or integer \")\n",
    "\n",
    "    if callable(x):\n",
    "        return x(data_in) # applies the function as stated in dictionary\n",
    "    else:\n",
    "        return data_in * x # conversion is not a number, e.g. a function\n"
   ]
  },
  {
   "cell_type": "code",
   "execution_count": 189,
   "metadata": {},
   "outputs": [
    {
     "data": {
      "text/html": "<div>\n<style scoped>\n    .dataframe tbody tr th:only-of-type {\n        vertical-align: middle;\n    }\n\n    .dataframe tbody tr th {\n        vertical-align: top;\n    }\n\n    .dataframe thead th {\n        text-align: right;\n    }\n</style>\n<table border=\"1\" class=\"dataframe\">\n  <thead>\n    <tr style=\"text-align: right;\">\n      <th></th>\n      <th>0</th>\n      <th>7</th>\n      <th>9</th>\n    </tr>\n  </thead>\n  <tbody>\n    <tr>\n      <td>0</td>\n      <td>NaN</td>\n      <td>Temperatures</td>\n      <td>Mass</td>\n    </tr>\n    <tr>\n      <td>1</td>\n      <td>NaN</td>\n      <td>USCS</td>\n      <td>USCS</td>\n    </tr>\n    <tr>\n      <td>2</td>\n      <td>NaN</td>\n      <td>F</td>\n      <td>lb</td>\n    </tr>\n    <tr>\n      <td>3</td>\n      <td>NaN</td>\n      <td>32</td>\n      <td>0</td>\n    </tr>\n    <tr>\n      <td>4</td>\n      <td>NaN</td>\n      <td>200</td>\n      <td>2000</td>\n    </tr>\n  </tbody>\n</table>\n</div>",
      "text/plain": "     0             7     9\n0  NaN  Temperatures  Mass\n1  NaN          USCS  USCS\n2  NaN             F    lb\n3  NaN            32     0\n4  NaN           200  2000"
     },
     "execution_count": 189,
     "metadata": {},
     "output_type": "execute_result"
    }
   ],
   "source": [
    "# General importing\n",
    "import pandas as pd\n",
    "\n",
    "# import\n",
    "df_import_supplier_A = pd.DataFrame()\n",
    "df_import_supplier_A = pd.read_csv(\"Data.csv\", header=None, sep=';', low_memory=False)\n",
    "\n",
    "# Clean up the database\n",
    "# drop column\n",
    "df_import_supplier_A = df_import_supplier_A.drop(columns=range(1,7), axis=1)\n",
    "df_import_supplier_A = df_import_supplier_A.drop(columns=range(8,9), axis=1)\n",
    "df_import_supplier_A = df_import_supplier_A.drop(columns=range(10,14), axis=1)\n",
    "\n",
    "# Make the conversion list\n",
    "df_products = pd.DataFrame() # This can become a loading option later\n",
    "'''\n",
    "df_products[\"12NC\"] = df_import_supplier_A[0]\n",
    "df_products = df_products.dropna()\n",
    "df_products = df_products.set_index(\"12NC\")\n",
    "'''\n",
    "df_import_supplier_A.head()"
   ]
  },
  {
   "cell_type": "code",
   "execution_count": 190,
   "metadata": {},
   "outputs": [
    {
     "data": {
      "text/html": "<div>\n<style scoped>\n    .dataframe tbody tr th:only-of-type {\n        vertical-align: middle;\n    }\n\n    .dataframe tbody tr th {\n        vertical-align: top;\n    }\n\n    .dataframe thead th {\n        text-align: right;\n    }\n</style>\n<table border=\"1\" class=\"dataframe\">\n  <thead>\n    <tr style=\"text-align: right;\">\n      <th></th>\n      <th>Supplier A temperatures</th>\n      <th>Supplier A mass</th>\n    </tr>\n    <tr>\n      <th>Supplier A 12NC</th>\n      <th></th>\n      <th></th>\n    </tr>\n  </thead>\n  <tbody>\n    <tr>\n      <td>402.255.334.708</td>\n      <td>15.000000</td>\n      <td>89.811289</td>\n    </tr>\n    <tr>\n      <td>402.258.698.328</td>\n      <td>1.111111</td>\n      <td>183.704910</td>\n    </tr>\n    <tr>\n      <td>402.249.767.239</td>\n      <td>25.000000</td>\n      <td>698.985842</td>\n    </tr>\n    <tr>\n      <td>402.235.950.496</td>\n      <td>55.000000</td>\n      <td>311.617958</td>\n    </tr>\n    <tr>\n      <td>402.264.653.803</td>\n      <td>85.555556</td>\n      <td>306.174850</td>\n    </tr>\n  </tbody>\n</table>\n</div>",
      "text/plain": "                 Supplier A temperatures  Supplier A mass\nSupplier A 12NC                                          \n402.255.334.708                15.000000        89.811289\n402.258.698.328                 1.111111       183.704910\n402.249.767.239                25.000000       698.985842\n402.235.950.496                55.000000       311.617958\n402.264.653.803                85.555556       306.174850"
     },
     "execution_count": 190,
     "metadata": {},
     "output_type": "execute_result"
    }
   ],
   "source": [
    "for col in df_import_supplier_A.columns.tolist():\n",
    "    # Define the types as used in columns derived from database\n",
    "    try:\n",
    "        unit_subject = df_import_supplier_A[col].iloc[0].lower()\n",
    "        unit_system = df_import_supplier_A[col].iloc[1].upper()\n",
    "        unit_specs = df_import_supplier_A[col].iloc[2]\n",
    "    except:\n",
    "        unit_subject = \"12NC\"\n",
    "    \n",
    "    # Add columns and convert in place\n",
    "    new_col_name = str('Supplier A '+ unit_subject)\n",
    "    df_products[new_col_name] = df_import_supplier_A[col].iloc[6:df_import_supplier_A.shape[0]]\n",
    "    if col > 0 :\n",
    "        df_products[new_col_name] = df_products[new_col_name].apply(lambda x : convert_units_from_dict(dict_unit_hardcoded, unit_subject, unit_system, unit_specs, x))\n",
    "\n",
    "df_products = df_products.set_index(\"Supplier A 12NC\")\n",
    "df_products.head()"
   ]
  },
  {
   "cell_type": "code",
   "execution_count": null,
   "metadata": {},
   "outputs": [],
   "source": []
  },
  {
   "cell_type": "code",
   "execution_count": null,
   "metadata": {},
   "outputs": [],
   "source": []
  },
  {
   "cell_type": "code",
   "execution_count": null,
   "metadata": {},
   "outputs": [],
   "source": []
  },
  {
   "cell_type": "code",
   "execution_count": 160,
   "metadata": {},
   "outputs": [
    {
     "name": "stdout",
     "output_type": "stream",
     "text": "[7, 9]\n"
    },
    {
     "data": {
      "text/html": "<div>\n<style scoped>\n    .dataframe tbody tr th:only-of-type {\n        vertical-align: middle;\n    }\n\n    .dataframe tbody tr th {\n        vertical-align: top;\n    }\n\n    .dataframe thead th {\n        text-align: right;\n    }\n</style>\n<table border=\"1\" class=\"dataframe\">\n  <thead>\n    <tr style=\"text-align: right;\">\n      <th></th>\n      <th>Supplier A temperatures</th>\n      <th>Supplier A mass</th>\n    </tr>\n    <tr>\n      <th>12NC</th>\n      <th></th>\n      <th></th>\n    </tr>\n  </thead>\n  <tbody>\n    <tr>\n      <td>12NC</td>\n      <td>None</td>\n      <td>None</td>\n    </tr>\n    <tr>\n      <td>402.255.334.708</td>\n      <td>None</td>\n      <td>None</td>\n    </tr>\n    <tr>\n      <td>402.258.698.328</td>\n      <td>None</td>\n      <td>None</td>\n    </tr>\n    <tr>\n      <td>402.249.767.239</td>\n      <td>None</td>\n      <td>None</td>\n    </tr>\n    <tr>\n      <td>402.235.950.496</td>\n      <td>None</td>\n      <td>None</td>\n    </tr>\n  </tbody>\n</table>\n</div>",
      "text/plain": "                Supplier A temperatures Supplier A mass\n12NC                                                   \n12NC                               None            None\n402.255.334.708                    None            None\n402.258.698.328                    None            None\n402.249.767.239                    None            None\n402.235.950.496                    None            None"
     },
     "execution_count": 160,
     "metadata": {},
     "output_type": "execute_result"
    }
   ],
   "source": [
    "#df_products['1'] = [1,2]\n",
    "\n",
    "print(df_import_supplier_A.columns.tolist()[1:])\n",
    "\n",
    "for col in df_import_supplier_A.columns.tolist()[1:]:\n",
    "    # Define the types as used in columns derived from database \n",
    "    unit_subject = df_import_supplier_A[col].iloc[0].lower()\n",
    "    unit_system = df_import_supplier_A[col].iloc[1].upper()\n",
    "    unit_specs = df_import_supplier_A[col].iloc[2]\n",
    "\n",
    "    # Add columns\n",
    "    new_col_name = str('Supplier A '+ unit_subject)\n",
    "    df_products[new_col_name] = None\n",
    "\n",
    "df_products = df_products.set_index(\"12NC\")\n",
    "df_products.head()\n"
   ]
  },
  {
   "cell_type": "code",
   "execution_count": null,
   "metadata": {},
   "outputs": [],
   "source": [
    "'''\n",
    "Reserved space to use like notepad, handy to retrieve useful code\n",
    "'''\n",
    "\n",
    "## Here more code needs to come\n",
    "'''\n",
    "#######\n",
    "#   PintPy\n",
    "# convert_pintpy(1,\"meter\",\"cm\") # does not work\n",
    "ureg.meter\n",
    "#   PyPi: Unit-converter\n",
    "# #convert_unit_converter(100, kilometres, miles) # does not work\n",
    "#   PyPi: Workdays\n",
    "#   PyPi: BusinessHours\n",
    "#######\n",
    "'''\n",
    "\n",
    "from datetime import datetime\n",
    "start_time = datetime.now() # for time loop\n",
    "# START TIME LOOP #\n",
    "# END OF TIME LOOP #\n",
    "time_elapsed = datetime.now() - start_time\n",
    "print('Time elapsed (h:m:s.ms) {}'.format(time_elapsed))"
   ]
  },
  {
   "cell_type": "code",
   "execution_count": null,
   "metadata": {},
   "outputs": [],
   "source": []
  },
  {
   "cell_type": "code",
   "execution_count": 41,
   "metadata": {},
   "outputs": [
    {
     "data": {
      "text/plain": "2          0\n3         80\n4          C\n5         68\n6         58\n          ..\n199994     5\n199995    72\n199996     5\n199997    26\n199998     5\nName: Temperatures, Length: 199997, dtype: object"
     },
     "execution_count": 41,
     "metadata": {},
     "output_type": "execute_result"
    }
   ],
   "source": [
    "## Trying out stuff\n",
    "\n",
    "y = df_import_supplier_A['Temperatures']\n",
    "y.iloc[2:y.size]"
   ]
  },
  {
   "cell_type": "code",
   "execution_count": 6,
   "metadata": {},
   "outputs": [
    {
     "name": "stdout",
     "output_type": "stream",
     "text": "1.2191999999999998 meter\n2 meter ** 2\n"
    }
   ],
   "source": [
    "# Convert Units\n",
    "########\n",
    "# PintPy: https://pint.readthedocs.io/en/0.11/\n",
    "\n",
    "## Error: currently this does not want to work\n",
    "\n",
    "import pint\n",
    "ureg = pint.UnitRegistry() \n",
    "\n",
    "'''\n",
    "# Examplary code how to use pintpy: \n",
    "print(3 * ureg.meter + 4 * ureg.cm)\n",
    "'''\n",
    "\n",
    "\n",
    "\n",
    "\n",
    "print(0 * ureg.meter + 4 * ureg.ft)\n",
    "print(1 * ureg.meter * 2 * ureg.meter)\n",
    "\n",
    "def convert_pintpy(data_in, unit_in, unit_out):\n",
    "    ureg = pint.UnitRegistry()\n",
    "\n",
    "    unit_in = \"ureg.\" + unit_in # this string conversion seems to create error\n",
    "    unit_out = \"ureg.\" + unit_out # but how to create this variable otherwise?\n",
    "    out = (0 * unit_out + data_in * unit_in)\n",
    "\n",
    "    return(out)"
   ]
  },
  {
   "cell_type": "code",
   "execution_count": 13,
   "metadata": {},
   "outputs": [
    {
     "name": "stdout",
     "output_type": "stream",
     "text": "37.35976780046479\n18.052876670367368\n"
    }
   ],
   "source": [
    "# Convert Units\n",
    "########\n",
    "# PyPi: Unit-Converter\n",
    "\n",
    "## Error: currently this does not want to work\n",
    "from unit_convert import UnitConvert\n",
    "\n",
    "'''\n",
    "# Examplary code how to use pypi:\n",
    "# Yards + kilometres to miles\n",
    "x = UnitConvert(yards=136.23, kilometres=60).miles\n",
    "print(x)\n",
    "# Bytes to terabytes\n",
    "x = UnitConvert(b=19849347813875).tb\n",
    "print(x)\n",
    "'''\n",
    "\n",
    "# General importing\n",
    "import pandas as pd\n",
    "\n",
    "# import\n",
    "df_import_supplier_A = pd.DataFrame()\n",
    "df_import_supplier_A = pd.read_csv(\"Data.csv\", header=None, sep=';', low_memory=False)\n",
    "\n",
    "# Clean up the database\n",
    "# drop column\n",
    "df_import_supplier_A = df_import_supplier_A.drop(columns=range(1,7), axis=1)\n",
    "df_import_supplier_A = df_import_supplier_A.drop(columns=range(8,9), axis=1)\n",
    "df_import_supplier_A = df_import_supplier_A.drop(columns=range(10,14), axis=1)\n",
    "\n",
    "\n",
    "x = UnitConvert(yards=136.23, kilometres=60).miles\n",
    "print(x)\n",
    "\n",
    "def convert_unit_converter(data_in, unit_in, unit_out):\n",
    "    from unit_convert import UnitConvert\n",
    "    return(UnitConvert(unit_in=data_in).unit_out)"
   ]
  },
  {
   "cell_type": "code",
   "execution_count": 14,
   "metadata": {},
   "outputs": [],
   "source": [
    "# Convert Time\n",
    "########\n",
    "#   PyPi: Workdays\n",
    "\n",
    "## Needs to be made"
   ]
  },
  {
   "cell_type": "code",
   "execution_count": 15,
   "metadata": {},
   "outputs": [],
   "source": [
    "# Convert Time\n",
    "########\n",
    "#   PyPi: BusinessHours\n",
    "\n",
    "## Needs to be made"
   ]
  }
 ],
 "metadata": {
  "kernelspec": {
   "display_name": "Python 3.7.4 64-bit ('base': conda)",
   "language": "python",
   "name": "python37464bitbaseconda436eee8014a147a9bb4bb1d46a33b7e9"
  },
  "language_info": {
   "codemirror_mode": {
    "name": "ipython",
    "version": 3
   },
   "file_extension": ".py",
   "mimetype": "text/x-python",
   "name": "python",
   "nbconvert_exporter": "python",
   "pygments_lexer": "ipython3",
   "version": "3.7.4-final"
  }
 },
 "nbformat": 4,
 "nbformat_minor": 2
}