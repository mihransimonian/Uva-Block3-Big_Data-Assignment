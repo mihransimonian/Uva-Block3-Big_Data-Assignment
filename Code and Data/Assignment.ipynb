{
 "cells": [
  {
   "cell_type": "code",
   "execution_count": 39,
   "metadata": {},
   "outputs": [
    {
     "name": "stdout",
     "output_type": "stream",
     "text": "{'distance_SI_km': '0,001', 'distance_SI_cm': '100', 'distance_SI_mm': '1000'}\n"
    }
   ],
   "source": [
    "# Read csv to Dictionary\n",
    "import csv\n",
    "reader = csv.reader(open('unit_conversions.csv', 'r'), delimiter=';')\n",
    "dict_from_csv = {} # start with empty dictionary\n",
    "\n",
    "####\n",
    "## Add code to check whether two columns or not\n",
    "## Add code for input types (string, float)\n",
    "####\n",
    "\n",
    "for k, v in reader:\n",
    "    dict_from_csv[k] = v # add key and value to dict\n",
    "\n",
    "print(dict_from_csv) # test output"
   ]
  },
  {
   "cell_type": "code",
   "execution_count": 10,
   "metadata": {},
   "outputs": [],
   "source": [
    "# Convert Units\n",
    "########\n",
    "# Self-made Dictionary\n",
    "\n",
    "# All conversions are made to SI units\n",
    "# https://en.wikipedia.org/wiki/United_States_customary_units#Units_of_length\n",
    "\n",
    "dict_unit = {\n",
    "    # distance to Meter (SI)\n",
    "    'distance_SI_km':0.001, # kilometer\n",
    "    'distance_SI_cm':100, # centimeter\n",
    "    'distance_SI_mm':1000, # millimeter\n",
    "    'distance_USCS_mi.':1609.344, # miles\n",
    "    'distance_USCS_ft':0.3048, # feet\n",
    "    'distance_USCS_in':0.0254, # inch\n",
    "    # volume to Liter (SI)\n",
    "    'volume_USCS_cu_in':0.016387064, # cubic inch\n",
    "    'volume_USCS_cu_ft':28.316846592, # cubic feet\n",
    "    'volume_USCS_cu_yd':764.554857984, # cubic yard\n",
    "    'volume_USCS_bbl':158.987294928, # oil barrel\n",
    "}"
   ]
  },
  {
   "cell_type": "code",
   "execution_count": null,
   "metadata": {},
   "outputs": [],
   "source": [
    "# Make universal dictionary reader for unit conversions\n",
    "\n",
    "def retrieve_conv_unit_from_dict(dict, unit_subject, unit_system, unit_specs):\n",
    "    retrieval_value = unit_subject + '_' + unit_system + '_' + unit_specs\n",
    "    return(dict.get(retrieval_value, 'ERROR'))"
   ]
  },
  {
   "cell_type": "code",
   "execution_count": 12,
   "metadata": {},
   "outputs": [],
   "source": [
    "# Convert Units\n",
    "########\n",
    "# PintPy: https://pint.readthedocs.io/en/0.11/\n",
    "\n",
    "## Error: currently this does not want to work\n",
    "\n",
    "import pint\n",
    "ureg = pint.UnitRegistry() \n",
    "\n",
    "'''\n",
    "# Examplary code how to use pintpy: \n",
    "print(3 * ureg.meter + 4 * ureg.cm)\n",
    "'''\n",
    "\n",
    "def convert_pintpy(data_in, unit_in, unit_out):\n",
    "    ureg = pint.UnitRegistry()\n",
    "\n",
    "    unit_in = \"ureg.\" + unit_in # this string conversion seems to create error\n",
    "    unit_out = \"ureg.\" + unit_out # but how to create this variable otherwise?\n",
    "    out = (1 * unit_out + data_in * unit_in)\n",
    "    out = out - (1 * unit_out)\n",
    "\n",
    "    return(out)"
   ]
  },
  {
   "cell_type": "code",
   "execution_count": 13,
   "metadata": {},
   "outputs": [
    {
     "name": "stdout",
     "output_type": "stream",
     "text": "37.35976780046479\n18.052876670367368\n"
    }
   ],
   "source": [
    "# Convert Units\n",
    "########\n",
    "# PyPi: Unit-Converter\n",
    "\n",
    "## Error: currently this does not want to work\n",
    "from unit_convert import UnitConvert\n",
    "\n",
    "'''\n",
    "# Examplary code how to use pypi:\n",
    "# Yards + kilometres to miles\n",
    "x = UnitConvert(yards=136.23, kilometres=60).miles\n",
    "print(x)\n",
    "# Bytes to terabytes\n",
    "x = UnitConvert(b=19849347813875).tb\n",
    "print(x)\n",
    "'''\n",
    "\n",
    "def convert_unit_converter(data_in, unit_in, unit_out):\n",
    "    from unit_convert import UnitConvert\n",
    "    return(UnitConvert(unit_in=data_in).unit_out)"
   ]
  },
  {
   "cell_type": "code",
   "execution_count": 14,
   "metadata": {},
   "outputs": [],
   "source": [
    "# Convert Time\n",
    "########\n",
    "#   PyPi: Workdays\n",
    "\n",
    "## Needs to be made"
   ]
  },
  {
   "cell_type": "code",
   "execution_count": 15,
   "metadata": {},
   "outputs": [],
   "source": [
    "# Convert Time\n",
    "########\n",
    "#   PyPi: BusinessHours\n",
    "\n",
    "## Needs to be made"
   ]
  },
  {
   "cell_type": "code",
   "execution_count": 16,
   "metadata": {},
   "outputs": [
    {
     "name": "stdout",
     "output_type": "stream",
     "text": "Time elapsed (h:m:s.ms) 0:00:00.470738\nIndex(['Unnamed: 0', 'Unnamed: 1', 'Unnamed: 2', 'Unnamed: 3', 'Unnamed: 4',\n       'Unnamed: 5', 'Temperatures', 'Temperatures.1', 'Mass', 'Mass.1',\n       'Distance', 'Distance.1', 'Distance.2', 'Distance.3'],\n      dtype='object')\n"
    }
   ],
   "source": [
    "# General importing\n",
    "import pandas as pd\n",
    "import numpy as np\n",
    "\n",
    "from datetime import datetime\n",
    "start_time = datetime.now() # for time loop\n",
    "\n",
    "# START TIME LOOP #\n",
    "####### import\n",
    "df_import_supplier_A = pd.DataFrame()\n",
    "df_import_supplier_A = pd.read_csv(\"Data.csv\", header=0, sep=';',low_memory=False)\n",
    "df_import_supplier_A.head()\n",
    "\n",
    "## Here more code needs to come\n",
    "'''\n",
    "#######\n",
    "#   PintPy\n",
    "# convert_pintpy(1,\"meter\",\"cm\") # does not work\n",
    "#   PyPi: Unit-converter\n",
    "# #convert_unit_converter(100, kilometres, miles) # does not work\n",
    "#   PyPi: Workdays\n",
    "#   PyPi: BusinessHours\n",
    "#######\n",
    "'''\n",
    "\n",
    "# END OF TIME LOOP #\n",
    "time_elapsed = datetime.now() - start_time\n",
    "print('Time elapsed (h:m:s.ms) {}'.format(time_elapsed))\n",
    "\n",
    "print(df_import_supplier_A.columns)"
   ]
  },
  {
   "cell_type": "code",
   "execution_count": 41,
   "metadata": {},
   "outputs": [
    {
     "data": {
      "text/plain": "2          0\n3         80\n4          C\n5         68\n6         58\n          ..\n199994     5\n199995    72\n199996     5\n199997    26\n199998     5\nName: Temperatures, Length: 199997, dtype: object"
     },
     "execution_count": 41,
     "metadata": {},
     "output_type": "execute_result"
    }
   ],
   "source": [
    "## Trying out stuff\n",
    "\n",
    "y = df_import_supplier_A['Temperatures']\n",
    "y.iloc[2:y.size]\n",
    "#y.apply(UnitConvert(yards=136.23, kilometres=60).miles)\n",
    "#y.apply(UnitConvert, args=())\n",
    "\n",
    "#y.apply(retrieve_conv_unit_from_dict(dict_from_csv,'distance','SI', 'mm'))\n",
    "\n",
    "#y.apply(retrieve_conv_unit_from_dict('distance','SI', 'mm'))\n",
    "#y.apply(UnitConvert(unit_in=data_in).unit_out)"
   ]
  },
  {
   "cell_type": "code",
   "execution_count": null,
   "metadata": {},
   "outputs": [],
   "source": [
    "'''\n",
    "Reserved space to use like notepad, handy to retrieve useful code\n",
    "'''\n",
    "# drop rows\n",
    "#df_import_supplier_A.drop([1,5])\n",
    "\n",
    "# drop column\n",
    "#df_import_supplier_A.drop(columns=['Unnamed: 1', 'Unnamed: 2', 'Unnamed: 3', 'Unnamed: 4', 'Unnamed: 5'], axis=1)\n",
    "\n",
    "## Perform library search, handmade python\n",
    "\n",
    "## Run large table\n"
   ]
  }
 ],
 "metadata": {
  "kernelspec": {
   "display_name": "Python 3.7.4 64-bit ('base': conda)",
   "language": "python",
   "name": "python37464bitbaseconda436eee8014a147a9bb4bb1d46a33b7e9"
  },
  "language_info": {
   "codemirror_mode": {
    "name": "ipython",
    "version": 3
   },
   "file_extension": ".py",
   "mimetype": "text/x-python",
   "name": "python",
   "nbconvert_exporter": "python",
   "pygments_lexer": "ipython3",
   "version": "3.7.4-final"
  }
 },
 "nbformat": 4,
 "nbformat_minor": 2
}