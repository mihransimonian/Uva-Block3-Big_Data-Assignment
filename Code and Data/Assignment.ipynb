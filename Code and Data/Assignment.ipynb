{
 "cells": [
  {
   "cell_type": "code",
   "execution_count": 53,
   "metadata": {},
   "outputs": [
    {
     "name": "stdout",
     "output_type": "stream",
     "text": "{'distance_SI_km': '0,001', 'distance_SI_cm': '100', 'distance_SI_mm': '1000'}\n"
    }
   ],
   "source": [
    "# Read csv to Dictionary\n",
    "import csv\n",
    "reader = csv.reader(open('unit_conversions.csv', 'r'), delimiter=';')\n",
    "dict_unit_csv = {} # start with empty dictionary\n",
    "\n",
    "####\n",
    "## Add code to check whether two columns or not\n",
    "## Add code for input types (string, float)\n",
    "####\n",
    "\n",
    "for k, v in reader:\n",
    "    dict_unit_csv[k] = v # add key and value to dict\n",
    "\n",
    "print(dict_unit_csv) # test output"
   ]
  },
  {
   "cell_type": "code",
   "execution_count": 54,
   "metadata": {},
   "outputs": [],
   "source": [
    "# Convert Units\n",
    "########\n",
    "# Self-made Dictionary\n",
    "\n",
    "# All conversions are made to SI units\n",
    "# https://en.wikipedia.org/wiki/United_States_customary_units#Units_of_length\n",
    "\n",
    "dict_unit_hardcoded = {\n",
    "    # Distance to Meter (SI) using * multiplication to go to SI\n",
    "    'distance_SI_km':0.001, # kilometer\n",
    "    'distance_SI_m':1, # meter\n",
    "    'distance_SI_cm':100, # centimeter\n",
    "    'distance_SI_mm':1000, # millimeter\n",
    "    'distance_USCS_mi.':1609.344, # miles\n",
    "    'distance_USCS_ft':0.3048, # feet\n",
    "    'distance_USCS_in':0.0254, # inch\n",
    "    # Volume to Liter (SI) using * multiplication to go to SI\n",
    "    'volume_USCS_cu_in':0.016387064, # cubic inch\n",
    "    'volume_USCS_cu_ft':28.316846592, # cubic feet\n",
    "    'volume_USCS_cu_yd':764.554857984, # cubic yard\n",
    "    'volume_USCS_bbl':158.987294928, # oil barrel\n",
    "    'volume_SI_L':1, # Liter\n",
    "    # Temperatures\n",
    "    'temperatures_USCS_°F': lambda x : ((5/9) * (x - 32)), # Fahrenheit to C\n",
    "    'temperatures_USCS_F': lambda x : ((5/9) * (x - 32)), # Fahrenheit to C\n",
    "    'temperatures_SI_°K': lambda x : (x - 273.15), # Kelvin\n",
    "    'temperatures_SI_K': lambda x : (x - 273.15), # Kelvin\n",
    "    'temperatures_SI_°C': 1, # Celsius\n",
    "    'temperatures_SI_C': 1, # Celsius\n",
    "    # Weights\n",
    "    'mass_USCS_lb': 0.45359237, # Pounds\n",
    "    'mass_SI_kg': 1, # Kilogram\n",
    "    'mass_SI_g': 1000, # grams\n",
    "}"
   ]
  },
  {
   "cell_type": "code",
   "execution_count": 55,
   "metadata": {},
   "outputs": [],
   "source": [
    "# Make universal dictionary reader for unit conversions\n",
    "\n",
    "def convert_units_from_dict(dict_to_use, unit_subject, unit_system, unit_specs, data_in):\n",
    "    '''\n",
    "    Retrieves conversion units from dictionary to be multiplied\\n\n",
    "    Apply a function in case it is a function\\n\n",
    "    dict_to_use = dictionary used to retrieve value\\n\n",
    "    unit_subject = describes the subject of unit, e.g. temperature, length\\n\n",
    "    unit_system = describes the unit systeml USCS, Imperial, SI etc\\n\n",
    "    unit_specs = Specificies the exact unit used\n",
    "    '''\n",
    "    retrieval_value = unit_subject + '_' + unit_system + '_' + unit_specs\n",
    "    if retrieval_value not in dict_to_use:\n",
    "        # This will stop the program!\n",
    "        raise RuntimeError(\"Unit \"  + retrieval_value + \" not found in dictionary. Please update data or dictionary.\")\n",
    "\n",
    "    x = dict_to_use[retrieval_value]\n",
    "    if callable(x):\n",
    "        return x(data_in) # applies the function as stated in dictionary\n",
    "    else:\n",
    "        return data_in * x # conversion is not a number, e.g. a function\n"
   ]
  },
  {
   "cell_type": "code",
   "execution_count": 56,
   "metadata": {},
   "outputs": [],
   "source": [
    "def cleanup_data_values_return_float(data_in):\n",
    "\n",
    "    if type(data_in) is bool:\n",
    "        raise RuntimeError(\"Datatype value in database is a boolean but it must be a floating point or integer\")\n",
    "\n",
    "    if type(data_in) is str:\n",
    "        data_in = data_in.replace(',','.')\n",
    "        if data_in.count('.') > 1:\n",
    "            data_in = data_in.replace('.','', data_in.count('.') - 1)\n",
    "    \n",
    "    try:\n",
    "        data_in = float(data_in)\n",
    "    except:\n",
    "        raise RuntimeError(\"Datatype value in database is a string but it must be a floating point or integer\")\n",
    "\n",
    "    return(float(data_in))"
   ]
  },
  {
   "cell_type": "code",
   "execution_count": null,
   "metadata": {},
   "outputs": [],
   "source": []
  },
  {
   "cell_type": "code",
   "execution_count": null,
   "metadata": {},
   "outputs": [],
   "source": []
  },
  {
   "cell_type": "code",
   "execution_count": 57,
   "metadata": {},
   "outputs": [
    {
     "data": {
      "text/html": "<div>\n<style scoped>\n    .dataframe tbody tr th:only-of-type {\n        vertical-align: middle;\n    }\n\n    .dataframe tbody tr th {\n        vertical-align: top;\n    }\n\n    .dataframe thead th {\n        text-align: right;\n    }\n</style>\n<table border=\"1\" class=\"dataframe\">\n  <thead>\n    <tr style=\"text-align: right;\">\n      <th></th>\n      <th>0</th>\n      <th>7</th>\n      <th>9</th>\n    </tr>\n  </thead>\n  <tbody>\n    <tr>\n      <td>0</td>\n      <td>NaN</td>\n      <td>Temperatures</td>\n      <td>Mass</td>\n    </tr>\n    <tr>\n      <td>1</td>\n      <td>NaN</td>\n      <td>USCS</td>\n      <td>USCS</td>\n    </tr>\n    <tr>\n      <td>2</td>\n      <td>NaN</td>\n      <td>°F</td>\n      <td>lb</td>\n    </tr>\n    <tr>\n      <td>3</td>\n      <td>NaN</td>\n      <td>32</td>\n      <td>0</td>\n    </tr>\n    <tr>\n      <td>4</td>\n      <td>NaN</td>\n      <td>200</td>\n      <td>2000</td>\n    </tr>\n  </tbody>\n</table>\n</div>",
      "text/plain": "     0             7     9\n0  NaN  Temperatures  Mass\n1  NaN          USCS  USCS\n2  NaN            °F    lb\n3  NaN            32     0\n4  NaN           200  2000"
     },
     "execution_count": 57,
     "metadata": {},
     "output_type": "execute_result"
    }
   ],
   "source": [
    "# General importing\n",
    "import pandas as pd\n",
    "\n",
    "# import\n",
    "df_import_supplier_A = pd.DataFrame()\n",
    "df_import_supplier_A = pd.read_csv(\"Data.csv\", header=None, sep=';', encoding='utf-8', low_memory=False)\n",
    "\n",
    "# Clean up the database\n",
    "# drop column\n",
    "try:\n",
    "    df_import_supplier_A = df_import_supplier_A.drop(columns=range(1,7), axis=1)\n",
    "    df_import_supplier_A = df_import_supplier_A.drop(columns=range(8,9), axis=1)\n",
    "    df_import_supplier_A = df_import_supplier_A.drop(columns=range(10,14), axis=1)\n",
    "except:\n",
    "    pass\n",
    "\n",
    "# Make the conversion list\n",
    "df_products = pd.DataFrame() # This can become a loading option later\n",
    "'''\n",
    "df_products[\"12NC\"] = df_import_supplier_A[0]\n",
    "df_products = df_products.dropna()\n",
    "df_products = df_products.set_index(\"12NC\")\n",
    "'''\n",
    "df_import_supplier_A.head()"
   ]
  },
  {
   "cell_type": "code",
   "execution_count": 58,
   "metadata": {},
   "outputs": [
    {
     "data": {
      "text/html": "<div>\n<style scoped>\n    .dataframe tbody tr th:only-of-type {\n        vertical-align: middle;\n    }\n\n    .dataframe tbody tr th {\n        vertical-align: top;\n    }\n\n    .dataframe thead th {\n        text-align: right;\n    }\n</style>\n<table border=\"1\" class=\"dataframe\">\n  <thead>\n    <tr style=\"text-align: right;\">\n      <th></th>\n      <th>Supplier A temperatures</th>\n      <th>Supplier A mass</th>\n    </tr>\n    <tr>\n      <th>Supplier A 12NC</th>\n      <th></th>\n      <th></th>\n    </tr>\n  </thead>\n  <tbody>\n    <tr>\n      <td>402255334708</td>\n      <td>15.000000</td>\n      <td>89.811289</td>\n    </tr>\n    <tr>\n      <td>402258698328</td>\n      <td>1.111111</td>\n      <td>183.704910</td>\n    </tr>\n    <tr>\n      <td>402249767239</td>\n      <td>25.000000</td>\n      <td>698.985842</td>\n    </tr>\n    <tr>\n      <td>402235950496</td>\n      <td>55.000000</td>\n      <td>311.617958</td>\n    </tr>\n    <tr>\n      <td>402264653803</td>\n      <td>85.555556</td>\n      <td>306.174850</td>\n    </tr>\n  </tbody>\n</table>\n</div>",
      "text/plain": "                 Supplier A temperatures  Supplier A mass\nSupplier A 12NC                                          \n402255334708                   15.000000        89.811289\n402258698328                    1.111111       183.704910\n402249767239                   25.000000       698.985842\n402235950496                   55.000000       311.617958\n402264653803                   85.555556       306.174850"
     },
     "execution_count": 58,
     "metadata": {},
     "output_type": "execute_result"
    }
   ],
   "source": [
    "for col in df_import_supplier_A.columns.tolist():\n",
    "    # Define the types as used in columns derived from database\n",
    "    try:\n",
    "        unit_subject = df_import_supplier_A[col].iloc[0].lower()\n",
    "        unit_system = df_import_supplier_A[col].iloc[1].upper()\n",
    "        unit_specs = df_import_supplier_A[col].iloc[2]\n",
    "    except:\n",
    "        unit_subject = \"12NC\"\n",
    "\n",
    "    # Add columns and convert in place\n",
    "    new_col_name = str('Supplier A '+ unit_subject)\n",
    "    df_products[new_col_name] = df_import_supplier_A[col].iloc[6:df_import_supplier_A.shape[0]]\n",
    "\n",
    "    if col > 0:\n",
    "        df_products[new_col_name] = df_products[new_col_name].apply(lambda x : cleanup_data_values_return_float(x))\n",
    "        df_products[new_col_name] = df_products[new_col_name].apply(lambda x : convert_units_from_dict(dict_unit_hardcoded, unit_subject, unit_system, unit_specs, x))\n",
    "\n",
    "    elif col == 0:\n",
    "        df_products[new_col_name] = df_products[new_col_name].apply(lambda x : x.replace('.',''))\n",
    "\n",
    "df_products = df_products.set_index(\"Supplier A 12NC\")\n",
    "df_products.head()"
   ]
  },
  {
   "cell_type": "code",
   "execution_count": 38,
   "metadata": {},
   "outputs": [],
   "source": [
    "\n"
   ]
  },
  {
   "cell_type": "code",
   "execution_count": 65,
   "metadata": {},
   "outputs": [
    {
     "data": {
      "text/html": "<div>\n<style scoped>\n    .dataframe tbody tr th:only-of-type {\n        vertical-align: middle;\n    }\n\n    .dataframe tbody tr th {\n        vertical-align: top;\n    }\n\n    .dataframe thead th {\n        text-align: right;\n    }\n</style>\n<table border=\"1\" class=\"dataframe\">\n  <thead>\n    <tr style=\"text-align: right;\">\n      <th></th>\n      <th>0</th>\n      <th>7</th>\n      <th>9</th>\n    </tr>\n  </thead>\n  <tbody>\n    <tr>\n      <td>0</td>\n      <td>NaN</td>\n      <td>Temperatures</td>\n      <td>Mass</td>\n    </tr>\n    <tr>\n      <td>1</td>\n      <td>NaN</td>\n      <td>USCS</td>\n      <td>USCS</td>\n    </tr>\n    <tr>\n      <td>2</td>\n      <td>NaN</td>\n      <td>F</td>\n      <td>lb</td>\n    </tr>\n    <tr>\n      <td>3</td>\n      <td>NaN</td>\n      <td>80</td>\n      <td>0</td>\n    </tr>\n    <tr>\n      <td>4</td>\n      <td>NaN</td>\n      <td>24</td>\n      <td>2000</td>\n    </tr>\n  </tbody>\n</table>\n</div>",
      "text/plain": "     0             7     9\n0  NaN  Temperatures  Mass\n1  NaN          USCS  USCS\n2  NaN             F    lb\n3  NaN            80     0\n4  NaN            24  2000"
     },
     "execution_count": 65,
     "metadata": {},
     "output_type": "execute_result"
    }
   ],
   "source": [
    "# import\n",
    "df_import_supplier_B = pd.DataFrame()\n",
    "df_import_supplier_B = pd.read_csv(\"DataB.csv\", header=None, sep=';', encoding='utf-8', low_memory=False)\n",
    "\n",
    "# Clean up the database\n",
    "# drop column\n",
    "df_import_supplier_B = df_import_supplier_B.drop(columns=range(1,7), axis=1)\n",
    "df_import_supplier_B = df_import_supplier_B.drop(columns=range(8,9), axis=1)\n",
    "df_import_supplier_B = df_import_supplier_B.drop(columns=range(10,14), axis=1)\n",
    "\n",
    "df_import_supplier_B.head()"
   ]
  },
  {
   "cell_type": "code",
   "execution_count": 64,
   "metadata": {},
   "outputs": [
    {
     "name": "stdout",
     "output_type": "stream",
     "text": "Supplier A temperatures  Supplier A mass\nSupplier A 12NC                                          \n402255334708                   15.000000        89.811289\n402258698328                    1.111111       183.704910\n402249767239                   25.000000       698.985842\n402235950496                   55.000000       311.617958\n402264653803                   85.555556       306.174850\n...                                  ...              ...\n402245489916                   68.888889       141.520819\n402255946517                   36.111111       738.901971\n402262790749                   47.777778       286.216785\n402278043281                   48.333333       801.044125\n402212761490                   35.555556       360.605934\n\n[199994 rows x 2 columns]\n"
    }
   ],
   "source": [
    "df_products.append(df_import_supplier_B)\n",
    "print(df_products)"
   ]
  },
  {
   "cell_type": "code",
   "execution_count": 66,
   "metadata": {},
   "outputs": [
    {
     "name": "stdout",
     "output_type": "stream",
     "text": "[0, 7, 9]\n"
    },
    {
     "data": {
      "text/html": "<div>\n<style scoped>\n    .dataframe tbody tr th:only-of-type {\n        vertical-align: middle;\n    }\n\n    .dataframe tbody tr th {\n        vertical-align: top;\n    }\n\n    .dataframe thead th {\n        text-align: right;\n    }\n</style>\n<table border=\"1\" class=\"dataframe\">\n  <thead>\n    <tr style=\"text-align: right;\">\n      <th></th>\n      <th>Supplier A temperatures</th>\n      <th>Supplier A mass</th>\n      <th>Supplier B 12NC</th>\n      <th>Supplier B temperatures</th>\n      <th>Supplier B mass</th>\n    </tr>\n    <tr>\n      <th>Supplier A 12NC</th>\n      <th></th>\n      <th></th>\n      <th></th>\n      <th></th>\n      <th></th>\n    </tr>\n  </thead>\n  <tbody>\n    <tr>\n      <td>402255334708</td>\n      <td>15.000000</td>\n      <td>89.811289</td>\n      <td>NaN</td>\n      <td>NaN</td>\n      <td>NaN</td>\n    </tr>\n    <tr>\n      <td>402258698328</td>\n      <td>1.111111</td>\n      <td>183.704910</td>\n      <td>NaN</td>\n      <td>NaN</td>\n      <td>NaN</td>\n    </tr>\n    <tr>\n      <td>402249767239</td>\n      <td>25.000000</td>\n      <td>698.985842</td>\n      <td>NaN</td>\n      <td>NaN</td>\n      <td>NaN</td>\n    </tr>\n    <tr>\n      <td>402235950496</td>\n      <td>55.000000</td>\n      <td>311.617958</td>\n      <td>NaN</td>\n      <td>NaN</td>\n      <td>NaN</td>\n    </tr>\n    <tr>\n      <td>402264653803</td>\n      <td>85.555556</td>\n      <td>306.174850</td>\n      <td>NaN</td>\n      <td>NaN</td>\n      <td>NaN</td>\n    </tr>\n  </tbody>\n</table>\n</div>",
      "text/plain": "                 Supplier A temperatures  Supplier A mass Supplier B 12NC  \\\nSupplier A 12NC                                                             \n402255334708                   15.000000        89.811289             NaN   \n402258698328                    1.111111       183.704910             NaN   \n402249767239                   25.000000       698.985842             NaN   \n402235950496                   55.000000       311.617958             NaN   \n402264653803                   85.555556       306.174850             NaN   \n\n                 Supplier B temperatures  Supplier B mass  \nSupplier A 12NC                                            \n402255334708                         NaN              NaN  \n402258698328                         NaN              NaN  \n402249767239                         NaN              NaN  \n402235950496                         NaN              NaN  \n402264653803                         NaN              NaN  "
     },
     "execution_count": 66,
     "metadata": {},
     "output_type": "execute_result"
    }
   ],
   "source": [
    "\n",
    "# Make the conversion list\n",
    "#df_products = pd.DataFrame() # This can become a loading option later\n",
    "print(df_import_supplier_B.columns.tolist())\n",
    "for col in df_import_supplier_B.columns.tolist():\n",
    "    # Define the types as used in columns derived from database\n",
    "    try:\n",
    "        unit_subject = df_import_supplier_B[col].iloc[0].lower()\n",
    "        unit_system = df_import_supplier_B[col].iloc[1].upper()\n",
    "        unit_specs = df_import_supplier_B[col].iloc[2]\n",
    "    except:\n",
    "        unit_subject = \"12NC\"\n",
    "\n",
    "    # Add columns and convert in place\n",
    "    new_col_name = str('Supplier B '+ unit_subject)\n",
    "    df_products[new_col_name] = df_import_supplier_B[col].iloc[6:df_import_supplier_B.shape[0]]\n",
    "\n",
    "    if col > 0:\n",
    "        df_products[new_col_name] = df_products[new_col_name].apply(lambda x : cleanup_data_values_return_float(x))\n",
    "        df_products[new_col_name] = df_products[new_col_name].apply(lambda x : convert_units_from_dict(dict_unit_hardcoded, unit_subject, unit_system, unit_specs, x))\n",
    "\n",
    "df_products.head()"
   ]
  },
  {
   "cell_type": "code",
   "execution_count": 41,
   "metadata": {},
   "outputs": [
    {
     "data": {
      "text/plain": "Supplier A temperatures        30\nSupplier A mass            68.946\nSupplier B 12NC               NaN\nSupplier B temperatures       NaN\nSupplier B mass               NaN\nName: 402236436631, dtype: object"
     },
     "execution_count": 41,
     "metadata": {},
     "output_type": "execute_result"
    }
   ],
   "source": [
    "df_products.iloc[10]"
   ]
  },
  {
   "cell_type": "code",
   "execution_count": 44,
   "metadata": {},
   "outputs": [
    {
     "data": {
      "text/html": "<div>\n<style scoped>\n    .dataframe tbody tr th:only-of-type {\n        vertical-align: middle;\n    }\n\n    .dataframe tbody tr th {\n        vertical-align: top;\n    }\n\n    .dataframe thead th {\n        text-align: right;\n    }\n</style>\n<table border=\"1\" class=\"dataframe\">\n  <thead>\n    <tr style=\"text-align: right;\">\n      <th></th>\n      <th>0</th>\n      <th>7</th>\n      <th>9</th>\n    </tr>\n  </thead>\n  <tbody>\n    <tr>\n      <td>0</td>\n      <td>NaN</td>\n      <td>Temperatures</td>\n      <td>Mass</td>\n    </tr>\n    <tr>\n      <td>1</td>\n      <td>NaN</td>\n      <td>USCS</td>\n      <td>USCS</td>\n    </tr>\n    <tr>\n      <td>2</td>\n      <td>NaN</td>\n      <td>F</td>\n      <td>lb</td>\n    </tr>\n    <tr>\n      <td>3</td>\n      <td>NaN</td>\n      <td>80</td>\n      <td>0</td>\n    </tr>\n    <tr>\n      <td>4</td>\n      <td>NaN</td>\n      <td>24</td>\n      <td>2000</td>\n    </tr>\n    <tr>\n      <td>...</td>\n      <td>...</td>\n      <td>...</td>\n      <td>...</td>\n    </tr>\n    <tr>\n      <td>199995</td>\n      <td>402288016975</td>\n      <td>89,91617234</td>\n      <td>1776</td>\n    </tr>\n    <tr>\n      <td>199996</td>\n      <td>402287657683</td>\n      <td>100,9163358</td>\n      <td>1287</td>\n    </tr>\n    <tr>\n      <td>199997</td>\n      <td>402262726583</td>\n      <td>82,06021872</td>\n      <td>729</td>\n    </tr>\n    <tr>\n      <td>199998</td>\n      <td>402220423670</td>\n      <td>53,0804307</td>\n      <td>1850</td>\n    </tr>\n    <tr>\n      <td>199999</td>\n      <td>402297181459</td>\n      <td>109,0402359</td>\n      <td>1013</td>\n    </tr>\n  </tbody>\n</table>\n<p>200000 rows × 3 columns</p>\n</div>",
      "text/plain": "                   0             7     9\n0                NaN  Temperatures  Mass\n1                NaN          USCS  USCS\n2                NaN             F    lb\n3                NaN            80     0\n4                NaN            24  2000\n...              ...           ...   ...\n199995  402288016975   89,91617234  1776\n199996  402287657683   100,9163358  1287\n199997  402262726583   82,06021872   729\n199998  402220423670    53,0804307  1850\n199999  402297181459   109,0402359  1013\n\n[200000 rows x 3 columns]"
     },
     "execution_count": 44,
     "metadata": {},
     "output_type": "execute_result"
    }
   ],
   "source": [
    "df_import_supplier_B"
   ]
  },
  {
   "cell_type": "code",
   "execution_count": 45,
   "metadata": {},
   "outputs": [
    {
     "name": "stdout",
     "output_type": "stream",
     "text": "<class 'float'>\n-74.0\n-----\nint or float\n-74.0\n"
    }
   ],
   "source": [
    "data_in = '74,262727.11'\n",
    "data_in = data_in.replace(',','.')\n",
    "data_in = False\n",
    "data_in = '-74'\n",
    "data_in = cleanup_data_values_return_float(data_in)\n",
    "print(type(data_in))\n",
    "print(data_in)\n",
    "print('-----')\n",
    "\n",
    "if type(data_in) is bool:\n",
    "    print('boolean')\n",
    "\n",
    "if type(data_in) is int or type(data_in) is float:\n",
    "    print('int or float')\n",
    "\n",
    "if type(data_in) is str:\n",
    "    print('string')\n",
    "    data_in = data_in.replace(',','.')\n",
    "    if data_in.count('.') > 1:\n",
    "        data_in = data_in.replace('.','', data_in.count('.') - 1)\n",
    "\n",
    "print (data_in)"
   ]
  },
  {
   "cell_type": "code",
   "execution_count": 160,
   "metadata": {},
   "outputs": [
    {
     "name": "stdout",
     "output_type": "stream",
     "text": "[7, 9]\n"
    },
    {
     "data": {
      "text/html": "<div>\n<style scoped>\n    .dataframe tbody tr th:only-of-type {\n        vertical-align: middle;\n    }\n\n    .dataframe tbody tr th {\n        vertical-align: top;\n    }\n\n    .dataframe thead th {\n        text-align: right;\n    }\n</style>\n<table border=\"1\" class=\"dataframe\">\n  <thead>\n    <tr style=\"text-align: right;\">\n      <th></th>\n      <th>Supplier A temperatures</th>\n      <th>Supplier A mass</th>\n    </tr>\n    <tr>\n      <th>12NC</th>\n      <th></th>\n      <th></th>\n    </tr>\n  </thead>\n  <tbody>\n    <tr>\n      <td>12NC</td>\n      <td>None</td>\n      <td>None</td>\n    </tr>\n    <tr>\n      <td>402.255.334.708</td>\n      <td>None</td>\n      <td>None</td>\n    </tr>\n    <tr>\n      <td>402.258.698.328</td>\n      <td>None</td>\n      <td>None</td>\n    </tr>\n    <tr>\n      <td>402.249.767.239</td>\n      <td>None</td>\n      <td>None</td>\n    </tr>\n    <tr>\n      <td>402.235.950.496</td>\n      <td>None</td>\n      <td>None</td>\n    </tr>\n  </tbody>\n</table>\n</div>",
      "text/plain": "                Supplier A temperatures Supplier A mass\n12NC                                                   \n12NC                               None            None\n402.255.334.708                    None            None\n402.258.698.328                    None            None\n402.249.767.239                    None            None\n402.235.950.496                    None            None"
     },
     "execution_count": 160,
     "metadata": {},
     "output_type": "execute_result"
    }
   ],
   "source": [
    "#df_products['1'] = [1,2]\n",
    "\n",
    "print(df_import_supplier_A.columns.tolist()[1:])\n",
    "\n",
    "for col in df_import_supplier_A.columns.tolist()[1:]:\n",
    "    # Define the types as used in columns derived from database \n",
    "    unit_subject = df_import_supplier_A[col].iloc[0].lower()\n",
    "    unit_system = df_import_supplier_A[col].iloc[1].upper()\n",
    "    unit_specs = df_import_supplier_A[col].iloc[2]\n",
    "\n",
    "    # Add columns\n",
    "    new_col_name = str('Supplier A '+ unit_subject)\n",
    "    df_products[new_col_name] = None\n",
    "\n",
    "df_products = df_products.set_index(\"12NC\")\n",
    "df_products.head()\n"
   ]
  },
  {
   "cell_type": "code",
   "execution_count": null,
   "metadata": {},
   "outputs": [],
   "source": [
    "'''\n",
    "Reserved space to use like notepad, handy to retrieve useful code\n",
    "'''\n",
    "\n",
    "## Here more code needs to come\n",
    "'''\n",
    "#######\n",
    "#   PintPy\n",
    "# convert_pintpy(1,\"meter\",\"cm\") # does not work\n",
    "ureg.meter\n",
    "#   PyPi: Unit-converter\n",
    "# #convert_unit_converter(100, kilometres, miles) # does not work\n",
    "#   PyPi: Workdays\n",
    "#   PyPi: BusinessHours\n",
    "#######\n",
    "'''\n",
    "\n",
    "from datetime import datetime\n",
    "start_time = datetime.now() # for time loop\n",
    "# START TIME LOOP #\n",
    "# END OF TIME LOOP #\n",
    "time_elapsed = datetime.now() - start_time\n",
    "print('Time elapsed (h:m:s.ms) {}'.format(time_elapsed))"
   ]
  },
  {
   "cell_type": "code",
   "execution_count": null,
   "metadata": {},
   "outputs": [],
   "source": []
  },
  {
   "cell_type": "code",
   "execution_count": 41,
   "metadata": {},
   "outputs": [
    {
     "data": {
      "text/plain": "2          0\n3         80\n4          C\n5         68\n6         58\n          ..\n199994     5\n199995    72\n199996     5\n199997    26\n199998     5\nName: Temperatures, Length: 199997, dtype: object"
     },
     "execution_count": 41,
     "metadata": {},
     "output_type": "execute_result"
    }
   ],
   "source": [
    "## Trying out stuff\n",
    "\n",
    "y = df_import_supplier_A['Temperatures']\n",
    "y.iloc[2:y.size]"
   ]
  },
  {
   "cell_type": "code",
   "execution_count": null,
   "metadata": {},
   "outputs": [],
   "source": []
  },
  {
   "cell_type": "code",
   "execution_count": null,
   "metadata": {},
   "outputs": [],
   "source": []
  },
  {
   "cell_type": "code",
   "execution_count": null,
   "metadata": {},
   "outputs": [],
   "source": [
    ">>> from unit_converter.converter import convert, converts\n",
    ">>>\n",
    ">>> convert('2.78 daN*mm^2', 'mN*µm^2')\n",
    ">>> Decimal('2.78E+10')\n",
    ">>>\n",
    ">>> converts('2.78 daN*mm^2', 'mN*µm^2')\n",
    ">>> '2.78E+10'\n",
    ">>>\n",
    ">>> converts('78 min', 'h')\n",
    ">>> '1.3'\n",
    ">>>\n",
    ">>> converts('52°C', '°F')\n",
    ">>> '125.6'\n",
    ">>>\n",
    ">>> converts('120 km*h^-1', 'mile*h^-1')\n",
    ">>> '74.56454306848007635409210214'"
   ]
  },
  {
   "cell_type": "code",
   "execution_count": 31,
   "metadata": {},
   "outputs": [
    {
     "data": {
      "text/html": "<div>\n<style scoped>\n    .dataframe tbody tr th:only-of-type {\n        vertical-align: middle;\n    }\n\n    .dataframe tbody tr th {\n        vertical-align: top;\n    }\n\n    .dataframe thead th {\n        text-align: right;\n    }\n</style>\n<table border=\"1\" class=\"dataframe\">\n  <thead>\n    <tr style=\"text-align: right;\">\n      <th></th>\n      <th>Supplier A temperatures</th>\n      <th>Supplier A mass</th>\n    </tr>\n    <tr>\n      <th>Supplier A 12NC</th>\n      <th></th>\n      <th></th>\n    </tr>\n  </thead>\n  <tbody>\n    <tr>\n      <td>402.255.334.708</td>\n      <td>15.0000000000000000000000000</td>\n      <td>None</td>\n    </tr>\n    <tr>\n      <td>402.258.698.328</td>\n      <td>1.1111111111111111111111111</td>\n      <td>None</td>\n    </tr>\n    <tr>\n      <td>402.249.767.239</td>\n      <td>25.0000000000000000000000000</td>\n      <td>None</td>\n    </tr>\n    <tr>\n      <td>402.235.950.496</td>\n      <td>55.0000000000000000000000000</td>\n      <td>None</td>\n    </tr>\n    <tr>\n      <td>402.264.653.803</td>\n      <td>85.5555555555555555555555555</td>\n      <td>None</td>\n    </tr>\n  </tbody>\n</table>\n</div>",
      "text/plain": "                      Supplier A temperatures Supplier A mass\nSupplier A 12NC                                              \n402.255.334.708  15.0000000000000000000000000            None\n402.258.698.328   1.1111111111111111111111111            None\n402.249.767.239  25.0000000000000000000000000            None\n402.235.950.496  55.0000000000000000000000000            None\n402.264.653.803  85.5555555555555555555555555            None"
     },
     "execution_count": 31,
     "metadata": {},
     "output_type": "execute_result"
    }
   ],
   "source": [
    "# General importing\n",
    "import pandas as pd\n",
    "from unit_converter.converter import convert, converts # copnvert returns decimal, converts returns string\n",
    "\n",
    "dict_unit_for_pypi_unit_converter = {\n",
    "    '°C':'°C',\n",
    "    '°F':'°C',\n",
    "    'lb':'kg'\n",
    "}\n",
    "\n",
    "# import\n",
    "df_import_supplier_A = pd.DataFrame()\n",
    "df_import_supplier_A = pd.read_csv(\"Data.csv\", header=None, sep=';', encoding='utf-8', low_memory=False)\n",
    "\n",
    "# Clean up the database\n",
    "# drop column\n",
    "df_import_supplier_A = df_import_supplier_A.drop(columns=range(1,7), axis=1)\n",
    "df_import_supplier_A = df_import_supplier_A.drop(columns=range(8,9), axis=1)\n",
    "df_import_supplier_A = df_import_supplier_A.drop(columns=range(10,14), axis=1)\n",
    "\n",
    "df_products = pd.DataFrame()\n",
    "\n",
    "for col in df_import_supplier_A.columns.tolist():\n",
    "    # Define the types as used in columns derived from database\n",
    "    try:\n",
    "        unit_subject = df_import_supplier_A[col].iloc[0].lower()\n",
    "        unit_system = df_import_supplier_A[col].iloc[1].upper()\n",
    "        unit_specs = df_import_supplier_A[col].iloc[2]\n",
    "    except:\n",
    "        unit_subject = \"12NC\"\n",
    "    \n",
    "    # Add columns and convert in place\n",
    "    new_col_name = str('Supplier A '+ unit_subject)\n",
    "    df_products[new_col_name] = df_import_supplier_A[col].iloc[6:df_import_supplier_A.shape[0]]\n",
    "    try: \n",
    "        if col > 0 :\n",
    "            df_products[new_col_name] = df_products[new_col_name].apply(lambda x : convert(str(x + '' + unit_specs), dict_unit_for_pypi_unit_converter[unit_specs]))\n",
    "    except:\n",
    "        df_products[new_col_name] = None\n",
    "        pass\n",
    "\n",
    "df_products = df_products.set_index(\"Supplier A 12NC\")\n",
    "df_products.head()"
   ]
  },
  {
   "cell_type": "code",
   "execution_count": null,
   "metadata": {},
   "outputs": [],
   "source": []
  },
  {
   "cell_type": "code",
   "execution_count": 52,
   "metadata": {},
   "outputs": [
    {
     "ename": "KeyError",
     "evalue": "'°F'",
     "output_type": "error",
     "traceback": [
      "\u001b[1;31m---------------------------------------------------------------------------\u001b[0m",
      "\u001b[1;31mKeyError\u001b[0m                                  Traceback (most recent call last)",
      "\u001b[1;32m<ipython-input-52-4f0da86f3586>\u001b[0m in \u001b[0;36m<module>\u001b[1;34m\u001b[0m\n\u001b[0;32m     57\u001b[0m     \u001b[0mdf_products\u001b[0m\u001b[1;33m[\u001b[0m\u001b[0mnew_col_name\u001b[0m\u001b[1;33m]\u001b[0m \u001b[1;33m=\u001b[0m \u001b[0mdf_import_supplier_A\u001b[0m\u001b[1;33m[\u001b[0m\u001b[0mcol\u001b[0m\u001b[1;33m]\u001b[0m\u001b[1;33m.\u001b[0m\u001b[0miloc\u001b[0m\u001b[1;33m[\u001b[0m\u001b[1;36m6\u001b[0m\u001b[1;33m:\u001b[0m\u001b[0mdf_import_supplier_A\u001b[0m\u001b[1;33m.\u001b[0m\u001b[0mshape\u001b[0m\u001b[1;33m[\u001b[0m\u001b[1;36m0\u001b[0m\u001b[1;33m]\u001b[0m\u001b[1;33m]\u001b[0m\u001b[1;33m\u001b[0m\u001b[1;33m\u001b[0m\u001b[0m\n\u001b[0;32m     58\u001b[0m     \u001b[1;32mif\u001b[0m \u001b[0mcol\u001b[0m \u001b[1;33m>\u001b[0m \u001b[1;36m0\u001b[0m \u001b[1;33m:\u001b[0m\u001b[1;33m\u001b[0m\u001b[1;33m\u001b[0m\u001b[0m\n\u001b[1;32m---> 59\u001b[1;33m         \u001b[0mdf_products\u001b[0m\u001b[1;33m[\u001b[0m\u001b[0mnew_col_name\u001b[0m\u001b[1;33m]\u001b[0m \u001b[1;33m=\u001b[0m \u001b[0mdf_products\u001b[0m\u001b[1;33m[\u001b[0m\u001b[0mnew_col_name\u001b[0m\u001b[1;33m]\u001b[0m\u001b[1;33m.\u001b[0m\u001b[0mapply\u001b[0m\u001b[1;33m(\u001b[0m\u001b[1;32mlambda\u001b[0m \u001b[0mx\u001b[0m \u001b[1;33m:\u001b[0m \u001b[0mconvert_unit_converter\u001b[0m\u001b[1;33m(\u001b[0m\u001b[0munit_specs\u001b[0m\u001b[1;33m,\u001b[0m \u001b[0mx\u001b[0m\u001b[1;33m)\u001b[0m\u001b[1;33m)\u001b[0m\u001b[1;33m\u001b[0m\u001b[1;33m\u001b[0m\u001b[0m\n\u001b[0m\u001b[0;32m     60\u001b[0m \u001b[1;33m\u001b[0m\u001b[0m\n\u001b[0;32m     61\u001b[0m \u001b[0mdf_products\u001b[0m \u001b[1;33m=\u001b[0m \u001b[0mdf_products\u001b[0m\u001b[1;33m.\u001b[0m\u001b[0mset_index\u001b[0m\u001b[1;33m(\u001b[0m\u001b[1;34m\"Supplier A 12NC\"\u001b[0m\u001b[1;33m)\u001b[0m\u001b[1;33m\u001b[0m\u001b[1;33m\u001b[0m\u001b[0m\n",
      "\u001b[1;32mC:\\ProgramData\\Anaconda3\\lib\\site-packages\\pandas\\core\\series.py\u001b[0m in \u001b[0;36mapply\u001b[1;34m(self, func, convert_dtype, args, **kwds)\u001b[0m\n\u001b[0;32m   4040\u001b[0m             \u001b[1;32melse\u001b[0m\u001b[1;33m:\u001b[0m\u001b[1;33m\u001b[0m\u001b[1;33m\u001b[0m\u001b[0m\n\u001b[0;32m   4041\u001b[0m                 \u001b[0mvalues\u001b[0m \u001b[1;33m=\u001b[0m \u001b[0mself\u001b[0m\u001b[1;33m.\u001b[0m\u001b[0mastype\u001b[0m\u001b[1;33m(\u001b[0m\u001b[0mobject\u001b[0m\u001b[1;33m)\u001b[0m\u001b[1;33m.\u001b[0m\u001b[0mvalues\u001b[0m\u001b[1;33m\u001b[0m\u001b[1;33m\u001b[0m\u001b[0m\n\u001b[1;32m-> 4042\u001b[1;33m                 \u001b[0mmapped\u001b[0m \u001b[1;33m=\u001b[0m \u001b[0mlib\u001b[0m\u001b[1;33m.\u001b[0m\u001b[0mmap_infer\u001b[0m\u001b[1;33m(\u001b[0m\u001b[0mvalues\u001b[0m\u001b[1;33m,\u001b[0m \u001b[0mf\u001b[0m\u001b[1;33m,\u001b[0m \u001b[0mconvert\u001b[0m\u001b[1;33m=\u001b[0m\u001b[0mconvert_dtype\u001b[0m\u001b[1;33m)\u001b[0m\u001b[1;33m\u001b[0m\u001b[1;33m\u001b[0m\u001b[0m\n\u001b[0m\u001b[0;32m   4043\u001b[0m \u001b[1;33m\u001b[0m\u001b[0m\n\u001b[0;32m   4044\u001b[0m         \u001b[1;32mif\u001b[0m \u001b[0mlen\u001b[0m\u001b[1;33m(\u001b[0m\u001b[0mmapped\u001b[0m\u001b[1;33m)\u001b[0m \u001b[1;32mand\u001b[0m \u001b[0misinstance\u001b[0m\u001b[1;33m(\u001b[0m\u001b[0mmapped\u001b[0m\u001b[1;33m[\u001b[0m\u001b[1;36m0\u001b[0m\u001b[1;33m]\u001b[0m\u001b[1;33m,\u001b[0m \u001b[0mSeries\u001b[0m\u001b[1;33m)\u001b[0m\u001b[1;33m:\u001b[0m\u001b[1;33m\u001b[0m\u001b[1;33m\u001b[0m\u001b[0m\n",
      "\u001b[1;32mpandas\\_libs\\lib.pyx\u001b[0m in \u001b[0;36mpandas._libs.lib.map_infer\u001b[1;34m()\u001b[0m\n",
      "\u001b[1;32m<ipython-input-52-4f0da86f3586>\u001b[0m in \u001b[0;36m<lambda>\u001b[1;34m(x)\u001b[0m\n\u001b[0;32m     57\u001b[0m     \u001b[0mdf_products\u001b[0m\u001b[1;33m[\u001b[0m\u001b[0mnew_col_name\u001b[0m\u001b[1;33m]\u001b[0m \u001b[1;33m=\u001b[0m \u001b[0mdf_import_supplier_A\u001b[0m\u001b[1;33m[\u001b[0m\u001b[0mcol\u001b[0m\u001b[1;33m]\u001b[0m\u001b[1;33m.\u001b[0m\u001b[0miloc\u001b[0m\u001b[1;33m[\u001b[0m\u001b[1;36m6\u001b[0m\u001b[1;33m:\u001b[0m\u001b[0mdf_import_supplier_A\u001b[0m\u001b[1;33m.\u001b[0m\u001b[0mshape\u001b[0m\u001b[1;33m[\u001b[0m\u001b[1;36m0\u001b[0m\u001b[1;33m]\u001b[0m\u001b[1;33m]\u001b[0m\u001b[1;33m\u001b[0m\u001b[1;33m\u001b[0m\u001b[0m\n\u001b[0;32m     58\u001b[0m     \u001b[1;32mif\u001b[0m \u001b[0mcol\u001b[0m \u001b[1;33m>\u001b[0m \u001b[1;36m0\u001b[0m \u001b[1;33m:\u001b[0m\u001b[1;33m\u001b[0m\u001b[1;33m\u001b[0m\u001b[0m\n\u001b[1;32m---> 59\u001b[1;33m         \u001b[0mdf_products\u001b[0m\u001b[1;33m[\u001b[0m\u001b[0mnew_col_name\u001b[0m\u001b[1;33m]\u001b[0m \u001b[1;33m=\u001b[0m \u001b[0mdf_products\u001b[0m\u001b[1;33m[\u001b[0m\u001b[0mnew_col_name\u001b[0m\u001b[1;33m]\u001b[0m\u001b[1;33m.\u001b[0m\u001b[0mapply\u001b[0m\u001b[1;33m(\u001b[0m\u001b[1;32mlambda\u001b[0m \u001b[0mx\u001b[0m \u001b[1;33m:\u001b[0m \u001b[0mconvert_unit_converter\u001b[0m\u001b[1;33m(\u001b[0m\u001b[0munit_specs\u001b[0m\u001b[1;33m,\u001b[0m \u001b[0mx\u001b[0m\u001b[1;33m)\u001b[0m\u001b[1;33m)\u001b[0m\u001b[1;33m\u001b[0m\u001b[1;33m\u001b[0m\u001b[0m\n\u001b[0m\u001b[0;32m     60\u001b[0m \u001b[1;33m\u001b[0m\u001b[0m\n\u001b[0;32m     61\u001b[0m \u001b[0mdf_products\u001b[0m \u001b[1;33m=\u001b[0m \u001b[0mdf_products\u001b[0m\u001b[1;33m.\u001b[0m\u001b[0mset_index\u001b[0m\u001b[1;33m(\u001b[0m\u001b[1;34m\"Supplier A 12NC\"\u001b[0m\u001b[1;33m)\u001b[0m\u001b[1;33m\u001b[0m\u001b[1;33m\u001b[0m\u001b[0m\n",
      "\u001b[1;32m<ipython-input-52-4f0da86f3586>\u001b[0m in \u001b[0;36mconvert_unit_converter\u001b[1;34m(unit_in, x)\u001b[0m\n\u001b[0;32m     12\u001b[0m \u001b[1;32mdef\u001b[0m \u001b[0mconvert_unit_converter\u001b[0m\u001b[1;33m(\u001b[0m\u001b[0munit_in\u001b[0m\u001b[1;33m,\u001b[0m \u001b[0mx\u001b[0m\u001b[1;33m)\u001b[0m\u001b[1;33m:\u001b[0m\u001b[1;33m\u001b[0m\u001b[1;33m\u001b[0m\u001b[0m\n\u001b[0;32m     13\u001b[0m     \u001b[1;32mfrom\u001b[0m \u001b[0munit_convert\u001b[0m \u001b[1;32mimport\u001b[0m \u001b[0mUnitConvert\u001b[0m\u001b[1;33m\u001b[0m\u001b[1;33m\u001b[0m\u001b[0m\n\u001b[1;32m---> 14\u001b[1;33m     \u001b[0munit_out\u001b[0m \u001b[1;33m=\u001b[0m \u001b[0mdict_unit_for_pypi_unit_convert\u001b[0m\u001b[1;33m[\u001b[0m\u001b[0munit_in\u001b[0m\u001b[1;33m]\u001b[0m\u001b[1;33m\u001b[0m\u001b[1;33m\u001b[0m\u001b[0m\n\u001b[0m\u001b[0;32m     15\u001b[0m \u001b[1;33m\u001b[0m\u001b[0m\n\u001b[0;32m     16\u001b[0m     \u001b[0mprint\u001b[0m\u001b[1;33m(\u001b[0m\u001b[0munit_in\u001b[0m\u001b[1;33m)\u001b[0m\u001b[1;33m\u001b[0m\u001b[1;33m\u001b[0m\u001b[0m\n",
      "\u001b[1;31mKeyError\u001b[0m: '°F'"
     ]
    }
   ],
   "source": [
    "# Convert Units\n",
    "########\n",
    "# PyPi: Unit-Converter https://pypi.org/project/unit-convert/\n",
    "\n",
    "\n",
    "dict_unit_for_pypi_unit_convert = {\n",
    "    'fahrenheit':'celsius',\n",
    "    'F':'celsius',\n",
    "    'lb':'kg'\n",
    "}\n",
    "\n",
    "def convert_unit_converter(unit_in, x):\n",
    "    from unit_convert import UnitConvert\n",
    "    unit_out = dict_unit_for_pypi_unit_convert[unit_in]\n",
    "    \n",
    "    print(unit_in)\n",
    "    print(unit_out)\n",
    "\n",
    "    unit_in = 'fahrenheit'\n",
    "    attrs = {unit_in: x}\n",
    "    return getattr(UnitConvert(**attrs), unit_out)\n",
    "\n",
    "'''\n",
    "# Examplary code how to use pypi:\n",
    "# Yards + kilometres to miles\n",
    "x = UnitConvert(yards=136.23, kilometres=60).miles\n",
    "print(x)\n",
    "# Bytes to terabytes\n",
    "x = UnitConvert(b=19849347813875).tb\n",
    "print(x)\n",
    "'''\n",
    "\n",
    "# General importing\n",
    "import pandas as pd\n",
    "\n",
    "# import\n",
    "df_import_supplier_A = pd.DataFrame()\n",
    "df_import_supplier_A = pd.read_csv(\"Data.csv\", header=None, sep=';', low_memory=False)\n",
    "\n",
    "# Clean up the database\n",
    "# drop column\n",
    "df_import_supplier_A = df_import_supplier_A.drop(columns=range(1,7), axis=1)\n",
    "df_import_supplier_A = df_import_supplier_A.drop(columns=range(8,9), axis=1)\n",
    "df_import_supplier_A = df_import_supplier_A.drop(columns=range(10,14), axis=1)\n",
    "\n",
    "for col in df_import_supplier_A.columns.tolist():\n",
    "    # Define the types as used in columns derived from database\n",
    "    try:\n",
    "        unit_subject = df_import_supplier_A[col].iloc[0].lower()\n",
    "        unit_system = df_import_supplier_A[col].iloc[1].upper()\n",
    "        unit_specs = df_import_supplier_A[col].iloc[2]\n",
    "    except:\n",
    "        unit_subject = \"12NC\"\n",
    "    \n",
    "    # Add columns and convert in place\n",
    "    new_col_name = str('Supplier A '+ unit_subject)\n",
    "    df_products[new_col_name] = df_import_supplier_A[col].iloc[6:df_import_supplier_A.shape[0]]\n",
    "    if col > 0 :\n",
    "        df_products[new_col_name] = df_products[new_col_name].apply(lambda x : convert_unit_converter(unit_specs, x))\n",
    "\n",
    "df_products = df_products.set_index(\"Supplier A 12NC\")\n",
    "df_products.head()\n",
    "\n",
    "#x = UnitConvert(yards=136.23, kilometres=60).miles\n",
    "#print(x)\n",
    "\n",
    "def convert_unit_converter_old(data_in, unit_in, unit_out):\n",
    "    from unit_convert import UnitConvert\n",
    "    return(UnitConvert(unit_in=data_in).unit_out)"
   ]
  },
  {
   "cell_type": "code",
   "execution_count": 51,
   "metadata": {},
   "outputs": [
    {
     "name": "stdout",
     "output_type": "stream",
     "text": "0.6095999999999999 meter\n"
    }
   ],
   "source": [
    "# Convert Units\n",
    "########\n",
    "# PintPy: https://pint.readthedocs.io/en/0.11/\n",
    "\n",
    "## Error: currently this does not want to work\n",
    "\n",
    "import pint\n",
    "ureg = pint.UnitRegistry() \n",
    "\n",
    "'''\n",
    "# Examplary code how to use pintpy: \n",
    "print(3 * ureg.meter + 4 * ureg.cm)\n",
    "'''\n",
    "\n",
    "#print(0 * ureg.meter + 4 * ureg.ft)\n",
    "print(0 * ureg.meter + 2 * ureg.ft)\n",
    "\n",
    "pint_dict = {\n",
    "    'meter' : ureg.meter,\n",
    "    'feet' : ureg.ft\n",
    "}\n",
    "\n",
    "def convert_pintpy(data_in, unit_in, unit_out):\n",
    "    ureg = pint.UnitRegistry()\n",
    "\n",
    "    unit_in = \"ureg.\" + unit_in # this string conversion seems to create error\n",
    "    unit_out = \"ureg.\" + unit_out # but how to create this variable otherwise?\n",
    "    out = (0 * unit_out + data_in * unit_in)\n",
    "\n",
    "    return(out)"
   ]
  },
  {
   "cell_type": "code",
   "execution_count": 14,
   "metadata": {},
   "outputs": [],
   "source": [
    "# Convert Time\n",
    "########\n",
    "#   PyPi: Workdays\n",
    "\n",
    "## Needs to be made"
   ]
  },
  {
   "cell_type": "code",
   "execution_count": 15,
   "metadata": {},
   "outputs": [],
   "source": [
    "# Convert Time\n",
    "########\n",
    "#   PyPi: BusinessHours\n",
    "\n",
    "## Needs to be made"
   ]
  }
 ],
 "metadata": {
  "kernelspec": {
   "display_name": "Python 3.7.4 64-bit ('base': conda)",
   "language": "python",
   "name": "python37464bitbaseconda436eee8014a147a9bb4bb1d46a33b7e9"
  },
  "language_info": {
   "codemirror_mode": {
    "name": "ipython",
    "version": 3
   },
   "file_extension": ".py",
   "mimetype": "text/x-python",
   "name": "python",
   "nbconvert_exporter": "python",
   "pygments_lexer": "ipython3",
   "version": "3.7.4-final"
  }
 },
 "nbformat": 4,
 "nbformat_minor": 2
}